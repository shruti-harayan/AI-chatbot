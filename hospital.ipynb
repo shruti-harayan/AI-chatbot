{
 "cells": [
  {
   "cell_type": "code",
   "execution_count": null,
   "id": "6a040150-4391-463b-850d-4013e43803bf",
   "metadata": {},
   "outputs": [],
   "source": [
    "pip install python-aiml\n"
   ]
  },
  {
   "cell_type": "code",
   "execution_count": 3,
   "id": "4a15ab99-fff8-4f9f-b773-cb3fe4aa8a1d",
   "metadata": {},
   "outputs": [
    {
     "name": "stdout",
     "output_type": "stream",
     "text": [
      "Loading C:\\Users\\Asus\\OneDrive\\Desktop\\shruti\\startup.xml...done (0.02 seconds)\n",
      "Loading C:\\\\Users\\\\Asus\\\\OneDrive\\\\Desktop\\\\shruti\\\\hospital_chat.aiml...done (0.00 seconds)\n"
     ]
    },
    {
     "data": {
      "text/plain": [
       "''"
      ]
     },
     "execution_count": 3,
     "metadata": {},
     "output_type": "execute_result"
    }
   ],
   "source": [
    "import aiml\n",
    "kernel = aiml.Kernel() \n",
    "kernel.learn(\"C:\\\\Users\\\\Asus\\\\OneDrive\\\\Desktop\\\\shruti\\\\startup.xml\") \n",
    "kernel.respond(\"load assign 1\")"
   ]
  },
  {
   "cell_type": "code",
   "execution_count": 4,
   "id": "3ac762c7-5079-4b22-beb5-0335709e6e59",
   "metadata": {},
   "outputs": [
    {
     "name": "stdin",
     "output_type": "stream",
     "text": [
      ">input: hi\n"
     ]
    },
    {
     "name": "stdout",
     "output_type": "stream",
     "text": [
      ">Bot: Hi there! How can I help you today?\n"
     ]
    },
    {
     "name": "stdin",
     "output_type": "stream",
     "text": [
      ">input: where are you located\n"
     ]
    },
    {
     "name": "stdout",
     "output_type": "stream",
     "text": [
      ">Bot: We are located at Sector1, Health Street, Mumbai City.\n"
     ]
    },
    {
     "name": "stdin",
     "output_type": "stream",
     "text": [
      ">input: hello\n"
     ]
    },
    {
     "name": "stdout",
     "output_type": "stream",
     "text": [
      ">Bot: Hello! Welcome to the hospital chatbot. How can I assist you today?\n"
     ]
    },
    {
     "name": "stdin",
     "output_type": "stream",
     "text": [
      ">input: DO YOU HAVE A PHARMACY\n"
     ]
    },
    {
     "name": "stdout",
     "output_type": "stream",
     "text": [
      ">Bot: Yes, we have an in-house pharmacy for your convenience.\n"
     ]
    },
    {
     "name": "stdin",
     "output_type": "stream",
     "text": [
      ">input: WHAT INSURANCE DO YOU ACCEPT\n"
     ]
    },
    {
     "name": "stdout",
     "output_type": "stream",
     "text": [
      ">Bot: We accept various insurance plans. Please contact our billing department for more information.\n"
     ]
    },
    {
     "name": "stdin",
     "output_type": "stream",
     "text": [
      ">input: thank you\n"
     ]
    },
    {
     "name": "stdout",
     "output_type": "stream",
     "text": [
      "> Bot: Goodbye! Take care and stay healthy.\n"
     ]
    }
   ],
   "source": [
    "while True: \n",
    " input_txt= input(\">input:\")\n",
    " if input_txt.lower() == \"thank you\":\n",
    "    print(\"> Bot: Goodbye! Take care and stay healthy.\")\n",
    "    break\n",
    " response =kernel.respond(input_txt) \n",
    " print(\">Bot: \"+response)"
   ]
  },
  {
   "cell_type": "code",
   "execution_count": null,
   "id": "514b5f57-98ad-447a-a24d-91e5384a61d0",
   "metadata": {},
   "outputs": [],
   "source": []
  }
 ],
 "metadata": {
  "kernelspec": {
   "display_name": "Python 3 (ipykernel)",
   "language": "python",
   "name": "python3"
  },
  "language_info": {
   "codemirror_mode": {
    "name": "ipython",
    "version": 3
   },
   "file_extension": ".py",
   "mimetype": "text/x-python",
   "name": "python",
   "nbconvert_exporter": "python",
   "pygments_lexer": "ipython3",
   "version": "3.11.4"
  }
 },
 "nbformat": 4,
 "nbformat_minor": 5
}
